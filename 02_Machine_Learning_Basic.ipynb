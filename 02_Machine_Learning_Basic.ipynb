{
 "cells": [
  {
   "cell_type": "markdown",
   "id": "72d1f2b3",
   "metadata": {},
   "source": [
    "## Jupyter Basic"
   ]
  },
  {
   "cell_type": "markdown",
   "id": "caf15d7c",
   "metadata": {},
   "source": [
    "    ### 제목을 클릭하면 파일 이름 변경 가능\n",
    "    ### 셀을 누르고 a를 누르면, 위에 셀 추가\n",
    "    ### 셀을 누르고 b를 누르면, 아래에 셀 추가\n",
    "    ### 셀을 누르고 dd를 누르면, 해당 셀 삭제\n",
    "    ### 이 외에도 잘라내기/복사/붙여넣기/이동 가능\n",
    "    ### Shift를 누른 상태에서 드래그 가능\n",
    "    ### 셀을 클릭 후 M을 누르면 Markdown으로 변환\n",
    "    ### 다시 코드로 변경하려면 메인 위젯 아래의 오른쪽 2번째 리스트 박스 활용\n",
    "    ### Ctrl + Enter를 누르면 실행\n",
    "    ### Shift + Enter를 누르면 실행하며 새로운 줄 생성\n",
    "    ### 이 외에도 다양한 메뉴 활용 가능"
   ]
  },
  {
   "cell_type": "markdown",
   "id": "caf15f80",
   "metadata": {},
   "source": [
    "## Machine Learning Basic"
   ]
  },
  {
   "cell_type": "markdown",
   "id": "6ac6634f",
   "metadata": {},
   "source": [
    "Predict Math score with Korean score."
   ]
  },
  {
   "cell_type": "markdown",
   "id": "b6a85d8d",
   "metadata": {},
   "source": [
    "### Raw Data"
   ]
  },
  {
   "cell_type": "code",
   "execution_count": 1,
   "id": "42be584e",
   "metadata": {},
   "outputs": [],
   "source": [
    "import numpy as np\n",
    "import pandas as pd"
   ]
  },
  {
   "cell_type": "code",
   "execution_count": 2,
   "id": "9aadc3c9",
   "metadata": {},
   "outputs": [],
   "source": [
    "data = pd.read_csv('./data/sample.csv', header=0, sep=',', encoding='euc-kr')"
   ]
  },
  {
   "cell_type": "code",
   "execution_count": 3,
   "id": "c471810a",
   "metadata": {},
   "outputs": [
    {
     "data": {
      "text/html": [
       "<div>\n",
       "<style scoped>\n",
       "    .dataframe tbody tr th:only-of-type {\n",
       "        vertical-align: middle;\n",
       "    }\n",
       "\n",
       "    .dataframe tbody tr th {\n",
       "        vertical-align: top;\n",
       "    }\n",
       "\n",
       "    .dataframe thead th {\n",
       "        text-align: right;\n",
       "    }\n",
       "</style>\n",
       "<table border=\"1\" class=\"dataframe\">\n",
       "  <thead>\n",
       "    <tr style=\"text-align: right;\">\n",
       "      <th></th>\n",
       "      <th>이름</th>\n",
       "      <th>국어성적</th>\n",
       "      <th>수학성적</th>\n",
       "    </tr>\n",
       "  </thead>\n",
       "  <tbody>\n",
       "    <tr>\n",
       "      <th>0</th>\n",
       "      <td>강다니엘</td>\n",
       "      <td>10</td>\n",
       "      <td>55</td>\n",
       "    </tr>\n",
       "    <tr>\n",
       "      <th>1</th>\n",
       "      <td>강동호</td>\n",
       "      <td>60</td>\n",
       "      <td>80</td>\n",
       "    </tr>\n",
       "    <tr>\n",
       "      <th>2</th>\n",
       "      <td>강미나</td>\n",
       "      <td>0</td>\n",
       "      <td>50</td>\n",
       "    </tr>\n",
       "    <tr>\n",
       "      <th>3</th>\n",
       "      <td>권현빈</td>\n",
       "      <td>20</td>\n",
       "      <td>60</td>\n",
       "    </tr>\n",
       "    <tr>\n",
       "      <th>4</th>\n",
       "      <td>김도연</td>\n",
       "      <td>60</td>\n",
       "      <td>80</td>\n",
       "    </tr>\n",
       "  </tbody>\n",
       "</table>\n",
       "</div>"
      ],
      "text/plain": [
       "     이름  국어성적  수학성적\n",
       "0  강다니엘    10    55\n",
       "1   강동호    60    80\n",
       "2   강미나     0    50\n",
       "3   권현빈    20    60\n",
       "4   김도연    60    80"
      ]
     },
     "execution_count": 3,
     "metadata": {},
     "output_type": "execute_result"
    }
   ],
   "source": [
    "data.head()"
   ]
  },
  {
   "cell_type": "code",
   "execution_count": 4,
   "id": "e005f6ec",
   "metadata": {},
   "outputs": [],
   "source": [
    "data = data[['국어성적', '수학성적']].values"
   ]
  },
  {
   "cell_type": "code",
   "execution_count": 5,
   "id": "bfedfbff",
   "metadata": {},
   "outputs": [
    {
     "data": {
      "text/plain": [
       "array([[10, 55],\n",
       "       [60, 80],\n",
       "       [ 0, 50],\n",
       "       [20, 60],\n",
       "       [60, 80],\n",
       "       [30, 65],\n",
       "       [60, 80],\n",
       "       [60, 80],\n",
       "       [10, 55],\n",
       "       [40, 70],\n",
       "       [70, 85],\n",
       "       [10, 55],\n",
       "       [30, 65],\n",
       "       [ 0, 50],\n",
       "       [20, 60],\n",
       "       [60, 80],\n",
       "       [90, 95],\n",
       "       [ 0, 50],\n",
       "       [ 0, 50],\n",
       "       [90, 95],\n",
       "       [10, 55],\n",
       "       [90, 95],\n",
       "       [60, 80],\n",
       "       [10, 55]], dtype=int64)"
      ]
     },
     "execution_count": 5,
     "metadata": {},
     "output_type": "execute_result"
    }
   ],
   "source": [
    "data"
   ]
  },
  {
   "cell_type": "code",
   "execution_count": 6,
   "id": "7f4ec846",
   "metadata": {},
   "outputs": [
    {
     "data": {
      "text/plain": [
       "(24, 2)"
      ]
     },
     "execution_count": 6,
     "metadata": {},
     "output_type": "execute_result"
    }
   ],
   "source": [
    "data.shape"
   ]
  },
  {
   "cell_type": "markdown",
   "id": "6c9c56c4",
   "metadata": {},
   "source": [
    "### Split Data: Train data, Test Data"
   ]
  },
  {
   "cell_type": "code",
   "execution_count": 7,
   "id": "632e2b2e",
   "metadata": {},
   "outputs": [],
   "source": [
    "train_len = 20\n",
    "train_idxs = np.random.choice(len(data), train_len, replace=False)"
   ]
  },
  {
   "cell_type": "code",
   "execution_count": 8,
   "id": "d596aec8",
   "metadata": {},
   "outputs": [
    {
     "data": {
      "text/plain": [
       "array([14,  0,  5, 11, 19,  3,  7, 13,  4, 17, 10, 18, 22,  9, 20, 21, 15,\n",
       "       12, 16, 23])"
      ]
     },
     "execution_count": 8,
     "metadata": {},
     "output_type": "execute_result"
    }
   ],
   "source": [
    "train_idxs"
   ]
  },
  {
   "cell_type": "code",
   "execution_count": 9,
   "id": "343571ba",
   "metadata": {},
   "outputs": [],
   "source": [
    "train_data = data[train_idxs]"
   ]
  },
  {
   "cell_type": "code",
   "execution_count": 10,
   "id": "98fdb11b",
   "metadata": {},
   "outputs": [
    {
     "data": {
      "text/plain": [
       "array([[20, 60],\n",
       "       [10, 55],\n",
       "       [30, 65],\n",
       "       [10, 55],\n",
       "       [90, 95],\n",
       "       [20, 60],\n",
       "       [60, 80],\n",
       "       [ 0, 50],\n",
       "       [60, 80],\n",
       "       [ 0, 50],\n",
       "       [70, 85],\n",
       "       [ 0, 50],\n",
       "       [60, 80],\n",
       "       [40, 70],\n",
       "       [10, 55],\n",
       "       [90, 95],\n",
       "       [60, 80],\n",
       "       [30, 65],\n",
       "       [90, 95],\n",
       "       [10, 55]], dtype=int64)"
      ]
     },
     "execution_count": 10,
     "metadata": {},
     "output_type": "execute_result"
    }
   ],
   "source": [
    "train_data"
   ]
  },
  {
   "cell_type": "code",
   "execution_count": 11,
   "id": "4f81effb",
   "metadata": {},
   "outputs": [],
   "source": [
    "test_idxs = [idx for idx in range(len(data)) if idx not in train_idxs]"
   ]
  },
  {
   "cell_type": "code",
   "execution_count": 12,
   "id": "6f1fea04",
   "metadata": {},
   "outputs": [
    {
     "data": {
      "text/plain": [
       "[1, 2, 6, 8]"
      ]
     },
     "execution_count": 12,
     "metadata": {},
     "output_type": "execute_result"
    }
   ],
   "source": [
    "test_idxs"
   ]
  },
  {
   "cell_type": "code",
   "execution_count": 13,
   "id": "c340bde4",
   "metadata": {},
   "outputs": [],
   "source": [
    "test_data = data[test_idxs]"
   ]
  },
  {
   "cell_type": "code",
   "execution_count": 14,
   "id": "8a5f2c1e",
   "metadata": {},
   "outputs": [
    {
     "data": {
      "text/plain": [
       "array([[60, 80],\n",
       "       [ 0, 50],\n",
       "       [60, 80],\n",
       "       [10, 55]], dtype=int64)"
      ]
     },
     "execution_count": 14,
     "metadata": {},
     "output_type": "execute_result"
    }
   ],
   "source": [
    "test_data"
   ]
  },
  {
   "cell_type": "markdown",
   "id": "e6e01eda",
   "metadata": {},
   "source": [
    "### Set Models"
   ]
  },
  {
   "cell_type": "code",
   "execution_count": 15,
   "id": "2bcbb60a",
   "metadata": {},
   "outputs": [],
   "source": [
    "def f(w, x):\n",
    "    return w*x"
   ]
  },
  {
   "cell_type": "markdown",
   "id": "2bdc0827",
   "metadata": {},
   "source": [
    "### Set Loss Function"
   ]
  },
  {
   "cell_type": "code",
   "execution_count": 16,
   "id": "7eca9ca3",
   "metadata": {},
   "outputs": [],
   "source": [
    "def loss(pre, y):\n",
    "    return ((pre-y)**2).sum()"
   ]
  },
  {
   "cell_type": "markdown",
   "id": "29f84ae6",
   "metadata": {},
   "source": [
    "### Split Data: Train data, Validation Data"
   ]
  },
  {
   "cell_type": "code",
   "execution_count": 17,
   "id": "6b323d6f",
   "metadata": {},
   "outputs": [],
   "source": [
    "train_len = 16\n",
    "train_idxs = np.random.choice(len(train_data), train_len, replace=False)"
   ]
  },
  {
   "cell_type": "code",
   "execution_count": 18,
   "id": "f8ca82a0",
   "metadata": {},
   "outputs": [
    {
     "data": {
      "text/plain": [
       "array([19, 12, 13,  2,  5,  9, 10, 18,  7,  1, 15, 14,  4,  8,  0, 16])"
      ]
     },
     "execution_count": 18,
     "metadata": {},
     "output_type": "execute_result"
    }
   ],
   "source": [
    "train_idxs"
   ]
  },
  {
   "cell_type": "code",
   "execution_count": 19,
   "id": "b840e4db",
   "metadata": {},
   "outputs": [],
   "source": [
    "train_data = train_data[train_idxs]"
   ]
  },
  {
   "cell_type": "code",
   "execution_count": 20,
   "id": "a1b01a65",
   "metadata": {},
   "outputs": [],
   "source": [
    "val_idxs = [idx for idx in range(len(train_data)) if idx not in train_idxs]"
   ]
  },
  {
   "cell_type": "code",
   "execution_count": 21,
   "id": "87e15a98",
   "metadata": {},
   "outputs": [
    {
     "data": {
      "text/plain": [
       "[3, 6, 11]"
      ]
     },
     "execution_count": 21,
     "metadata": {},
     "output_type": "execute_result"
    }
   ],
   "source": [
    "val_idxs"
   ]
  },
  {
   "cell_type": "code",
   "execution_count": 22,
   "id": "f6df99d5",
   "metadata": {},
   "outputs": [],
   "source": [
    "val_data = train_data[val_idxs]"
   ]
  },
  {
   "cell_type": "markdown",
   "id": "fbbfb2a7",
   "metadata": {},
   "source": [
    "### Train and Validate"
   ]
  },
  {
   "cell_type": "code",
   "execution_count": 23,
   "id": "07607fb5",
   "metadata": {},
   "outputs": [
    {
     "name": "stdout",
     "output_type": "stream",
     "text": [
      "--- Step 1 ---\n",
      "Current Model: \t 1.50\n",
      "Trai Loss: \t 17600.0000\n",
      "Val Loss: \t 2400.0000\n",
      "--- Step 2 ---\n",
      "Current Model: \t 1.40\n",
      "Trai Loss: \t 15916.0000\n",
      "Val Loss: \t 2379.0000\n",
      "--- Step 3 ---\n",
      "Current Model: \t 1.30\n",
      "Trai Loss: \t 15104.0000\n",
      "Val Loss: \t 2476.0000\n",
      "--- Step 4 ---\n",
      "Current Model: \t 1.20\n",
      "Trai Loss: \t 15164.0000\n",
      "Val Loss: \t 2691.0000\n",
      "--- Step 5 ---\n",
      "Current Model: \t 1.30\n",
      "Trai Loss: \t 15104.0000\n",
      "Val Loss: \t 2476.0000\n"
     ]
    }
   ],
   "source": [
    "# Rule-based traning\n",
    "# Loss가 이전보다 작으면 0.1씩 감소\n",
    "# 그렇지 않다면 0.1씩 증가\n",
    "\n",
    "w = 1.5 # 초기 가중치는 1.5로 설정\n",
    "# := \"국어 성적의 1.5배가 수학 성적일 것이다.\"\n",
    "prev_loss_value = np.inf # 초기 Loss는 가장 큰 무한으로 설정\n",
    "\n",
    "for i in range(5):\n",
    "    x = train_data[:, 0]\n",
    "    y = train_data[:, 1]\n",
    "    \n",
    "    pre = f(w, x)\n",
    "    train_loss_value = loss(pre, y)\n",
    "    \n",
    "    x = val_data[:, 0]\n",
    "    y = val_data[:, 1]\n",
    "    pre = f(w, x)\n",
    "    val_loss_value = loss(pre, y)\n",
    "    \n",
    "    print(\"--- Step %d ---\"%(i+1))\n",
    "    print(\"Current Model: \\t %2.2f\"%(w))\n",
    "    print(\"Trai Loss: \\t %2.4f\"%(train_loss_value))\n",
    "    print(\"Val Loss: \\t %2.4f\"%(val_loss_value))\n",
    "    \n",
    "    # Rule-based traning\n",
    "    if prev_loss_value > train_loss_value:\n",
    "        w -= 0.1\n",
    "    else:\n",
    "        w += 0.1\n",
    "    prev_loss_value = train_loss_value"
   ]
  },
  {
   "cell_type": "markdown",
   "id": "d1439002",
   "metadata": {},
   "source": [
    "### Select Model"
   ]
  },
  {
   "cell_type": "code",
   "execution_count": 24,
   "id": "c0c2f6e9",
   "metadata": {},
   "outputs": [],
   "source": [
    "w_best = 1.40"
   ]
  },
  {
   "cell_type": "markdown",
   "id": "680f52b4",
   "metadata": {},
   "source": [
    "### Test Model"
   ]
  },
  {
   "cell_type": "code",
   "execution_count": 25,
   "id": "90ab7fe3",
   "metadata": {},
   "outputs": [],
   "source": [
    "x = test_data[:, 0]\n",
    "y = test_data[:, 1]\n",
    "    \n",
    "pre = f(w_best, x)"
   ]
  },
  {
   "cell_type": "code",
   "execution_count": 26,
   "id": "db0a4a0d",
   "metadata": {},
   "outputs": [
    {
     "data": {
      "text/plain": [
       "4213.0"
      ]
     },
     "execution_count": 26,
     "metadata": {},
     "output_type": "execute_result"
    }
   ],
   "source": [
    "loss(pre, y)"
   ]
  },
  {
   "cell_type": "code",
   "execution_count": 28,
   "id": "8b071aea",
   "metadata": {},
   "outputs": [
    {
     "name": "stdout",
     "output_type": "stream",
     "text": [
      "x [60  0 60 10]\n",
      "y [80 50 80 55]\n",
      "pre [84.  0. 84. 14.]\n"
     ]
    }
   ],
   "source": [
    "print(\"x\", x)\n",
    "print(\"y\", y)\n",
    "print(\"pre\", pre)"
   ]
  }
 ],
 "metadata": {
  "kernelspec": {
   "display_name": "Python 3",
   "language": "python",
   "name": "python3"
  },
  "language_info": {
   "codemirror_mode": {
    "name": "ipython",
    "version": 3
   },
   "file_extension": ".py",
   "mimetype": "text/x-python",
   "name": "python",
   "nbconvert_exporter": "python",
   "pygments_lexer": "ipython3",
   "version": "3.8.8"
  }
 },
 "nbformat": 4,
 "nbformat_minor": 5
}
